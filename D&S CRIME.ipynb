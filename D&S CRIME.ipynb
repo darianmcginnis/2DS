{
 "cells": [
  {
   "cell_type": "code",
   "execution_count": 2,
   "metadata": {},
   "outputs": [],
   "source": [
    "import pandas as pd"
   ]
  },
  {
   "cell_type": "code",
   "execution_count": 6,
   "metadata": {},
   "outputs": [
    {
     "name": "stdout",
     "output_type": "stream",
     "text": [
      "              PK       CCR  HIERARCHY         INCIDENTTIME  \\\n",
      "0      276847653  22047618          6  2022-03-31T08:42:00   \n",
      "1      276857084  22047668          0  2022-03-30T09:45:00   \n",
      "2      277304605  22050629          6  2022-04-05T10:10:00   \n",
      "3    -3413183632  22043806         27  2022-03-24T14:51:00   \n",
      "4      276218398  22043851         18  2022-03-24T15:17:00   \n",
      "...          ...       ...        ...                  ...   \n",
      "2907 -3532021592  22050617         26  2022-04-02T23:10:00   \n",
      "2908   277335463  22050730         10  2022-04-05T13:35:00   \n",
      "2909   277397239  22051154         99  2022-04-06T08:00:00   \n",
      "2910   274750354  22034961         11  2022-03-08T17:00:00   \n",
      "2911   274751119  22034970          0  2022-03-09T10:07:00   \n",
      "\n",
      "                                    INCIDENTLOCATION CLEAREDFLAG  \\\n",
      "0         1900 Block Murray Ave Pittsburgh, PA 15217           N   \n",
      "1          2200 Block Shady Ave Pittsburgh, PA 15217           N   \n",
      "2       1100 Block Round Top St Pittsburgh, PA 15205           N   \n",
      "3         S 23rd St & Sidney St Pittsburgh, PA 15203           Y   \n",
      "4         Bingham St & S 6th St Pittsburgh, PA 15203           Y   \n",
      "...                                              ...         ...   \n",
      "2907     1500 Block Crucible St Pittsburgh, PA 15220           N   \n",
      "2908          100 Block 24th St Pittsburgh, PA 15222           N   \n",
      "2909  Sherman Ave & W North Ave Pittsburgh, PA 15212           N   \n",
      "2910        6900 Block Meade St Pittsburgh, PA 15208           N   \n",
      "2911                  Poplar St Pittsburgh, PA 15220           N   \n",
      "\n",
      "     INCIDENTNEIGHBORHOOD INCIDENTZONE INCIDENTHIERARCHYDESC  \\\n",
      "0     Squirrel Hill South            4                 THEFT   \n",
      "1     Squirrel Hill South            4                    99   \n",
      "2         Crafton Heights            6       THEFT FROM AUTO   \n",
      "3        South Side Flats            3           HIT AND RUN   \n",
      "4        South Side Flats            3       STOLEN PROPERTY   \n",
      "...                   ...          ...                   ...   \n",
      "2907      Crafton Heights            6     CRIMINAL TRESPASS   \n",
      "2908     Crawford-Roberts            2   TERRORISTIC THREATS   \n",
      "2909   Central North Side            1        FOUND PROPERTY   \n",
      "2910   Point Breeze North            4    THEFT BY DECEPTION   \n",
      "2911         Outside City          OSC                    99   \n",
      "\n",
      "                                               OFFENSES  INCIDENTTRACT  \\\n",
      "0     3921(a) Theft by Unlawful Taking or Dispositio...         1408.0   \n",
      "1     2709.1 Stalking Conduct or Repeatedly Acts Inc...         1408.0   \n",
      "2     3934 Theft from Vehicle / 3304(a)(5) CRIMINAL ...         2815.0   \n",
      "3     3743 Accidents Involving Damage to Attended Ve...         1609.0   \n",
      "4           13(a)(32) Paraphernalia - Use or Possession         1702.0   \n",
      "...                                                 ...            ...   \n",
      "2907                             3503 Criminal Trespass         2814.0   \n",
      "2908  2706 Terroristic Threats. / 3926(a)(1) Theft o...          305.0   \n",
      "2909                                9489 Found Property         2206.0   \n",
      "2910                           3922 Theft by Deception.         1405.0   \n",
      "2911  9999 9999 - (Misc. Incident): 9999 - (Misc. In...         5599.0   \n",
      "\n",
      "      COUNCIL_DISTRICT  PUBLIC_WORKS_DIVISION          X          Y  \n",
      "0                  5.0                    3.0 -79.923068  40.435880  \n",
      "1                  5.0                    3.0 -79.918778  40.433377  \n",
      "2                  NaN                    NaN   0.000000   0.000000  \n",
      "3                  3.0                    3.0 -79.972945  40.429246  \n",
      "4                  3.0                    3.0 -79.993635  40.429359  \n",
      "...                ...                    ...        ...        ...  \n",
      "2907               NaN                    NaN   0.000000   0.000000  \n",
      "2908               7.0                    6.0 -79.981447  40.453743  \n",
      "2909               1.0                    1.0 -80.009599  40.454909  \n",
      "2910               9.0                    2.0 -79.907413  40.452112  \n",
      "2911               2.0                    5.0 -80.055219  40.428088  \n",
      "\n",
      "[2912 rows x 15 columns]\n"
     ]
    }
   ],
   "source": [
    "crime = pd.read_csv('crime.csv')\n",
    "print(crime)"
   ]
  },
  {
   "cell_type": "code",
   "execution_count": null,
   "metadata": {},
   "outputs": [],
   "source": []
  }
 ],
 "metadata": {
  "kernelspec": {
   "display_name": "Python 3",
   "language": "python",
   "name": "python3"
  },
  "language_info": {
   "codemirror_mode": {
    "name": "ipython",
    "version": 3
   },
   "file_extension": ".py",
   "mimetype": "text/x-python",
   "name": "python",
   "nbconvert_exporter": "python",
   "pygments_lexer": "ipython3",
   "version": "3.8.3"
  }
 },
 "nbformat": 4,
 "nbformat_minor": 4
}
