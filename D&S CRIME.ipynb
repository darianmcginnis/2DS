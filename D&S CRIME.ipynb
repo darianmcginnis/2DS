{
 "cells": [
  {
   "cell_type": "code",
   "execution_count": 2,
   "metadata": {},
   "outputs": [],
   "source": [
    "import pandas as pd"
   ]
  },
  {
   "cell_type": "code",
   "execution_count": 68,
   "metadata": {},
   "outputs": [
    {
     "name": "stdout",
     "output_type": "stream",
     "text": [
      "Neighborhood\n",
      "Central Business District    210\n",
      "South Side Flats             122\n",
      "Carrick                      118\n",
      "East Liberty                  91\n",
      "Homewood North                83\n",
      "Brookline                     76\n",
      "Brighton Heights              73\n",
      "Mount Washington              72\n",
      "East Hills                    67\n",
      "Beechview                     66\n",
      "Sheraden                      64\n",
      "Knoxville                     62\n",
      "East Allegheny                56\n",
      "Lincoln-Lemington-Belmar      55\n",
      "Shadyside                     54\n",
      "Marshall-Shadeland            54\n",
      "Bloomfield                    52\n",
      "Bluff                         51\n",
      "Hazelwood                     51\n",
      "Squirrel Hill South           51\n",
      "Homewood South                50\n",
      "Crawford-Roberts              48\n",
      "Perry South                   48\n",
      "Crafton Heights               45\n",
      "Allentown                     44\n",
      "Larimer                       42\n",
      "Middle Hill                   40\n",
      "South Side Slopes             39\n",
      "Squirrel Hill North           39\n",
      "Garfield                      37\n",
      "Central Oakland               36\n",
      "Chateau                       31\n",
      "Highland Park                 29\n",
      "North Oakland                 29\n",
      "Central Lawrenceville         29\n",
      "Bedford Dwellings             29\n",
      "Greenfield                    29\n",
      "Central North Side            28\n",
      "Perry North                   28\n",
      "Strip District                27\n",
      "Allegheny Center              26\n",
      "Elliott                       24\n",
      "Arlington                     23\n",
      "North Shore                   23\n",
      "Overbrook                     21\n",
      "Northview Heights             21\n",
      "Lincoln Place                 20\n",
      "Homewood West                 19\n",
      "Westwood                      19\n",
      "Manchester                    19\n",
      "Point Breeze                  18\n",
      "Lower Lawrenceville           18\n",
      "Stanton Heights               18\n",
      "Upper Hill                    18\n",
      "Point Breeze North            18\n",
      "California-Kirkbride          17\n",
      "West Oakland                  17\n",
      "Spring Hill-City View         17\n",
      "Upper Lawrenceville           16\n",
      "Bon Air                       16\n",
      "Banksville                    16\n",
      "Troy Hill                     15\n",
      "Beltzhoover                   15\n",
      "Morningside                   14\n",
      "Duquesne Heights              14\n",
      "Terrace Village               13\n",
      "South Shore                   13\n",
      "South Oakland                 12\n",
      "Fineview                      10\n",
      "Windgap                       10\n",
      "Polish Hill                   10\n",
      "Friendship                     9\n",
      "West End                       9\n",
      "Outside State                  9\n",
      "Outside City                   8\n",
      "Oakwood                        8\n",
      "Swisshelm Park                 7\n",
      "Spring Garden                  7\n",
      "Fairywood                      7\n",
      "Arlington Heights              6\n",
      "Allegheny West                 6\n",
      "Mount Oliver                   4\n",
      "Hays                           4\n",
      "Esplen                         3\n",
      "Glen Hazel                     2\n",
      "Regent Square                  2\n",
      "Mt. Oliver Boro                2\n",
      "Outside County                 2\n",
      "Summer Hill                    2\n",
      "Ridgemont                      1\n"
     ]
    }
   ],
   "source": [
    "crime = pd.read_csv('crime.csv')\n",
    "\n",
    "total = len(crime)\n",
    "\n",
    "#Sorted Alphabetically\n",
    "#crime = crime.sort_values('INCIDENTNEIGHBORHOOD')['INCIDENTNEIGHBORHOOD'].value_counts(sort = False).rename_axis(\"Neighborhood\")\n",
    "#print(crime.to_string())\n",
    "\n",
    "#Sorted in decending order\n",
    "crime = crime['INCIDENTNEIGHBORHOOD'].value_counts().rename_axis(\"Neighborhood\")\n",
    "print(crime.to_string())"
   ]
  },
  {
   "cell_type": "markdown",
   "metadata": {},
   "source": [
    "# The 3 Neighborhoods with the most crime:\n",
    "\n",
    "- Central Business District:    210 Cases\n",
    "- South Side Flats:             122 Cases\n",
    "- Carrick:                      118 Cases\n",
    "\n",
    "# The 7 Neighbourhoods with the least crime:\n",
    "\n",
    "- Esplen:                         3 Cases\n",
    "- Glen Hazel:                     2 Cases\n",
    "- Regent Square:                  2 Cases\n",
    "- Mount Oliver Borough:           2 Cases\n",
    "- Outside County:                 2 Cases\n",
    "- Summer Hill:                    2 Cases\n",
    "- Ridgemont:                      1 Cases"
   ]
  },
  {
   "cell_type": "code",
   "execution_count": 70,
   "metadata": {},
   "outputs": [
    {
     "name": "stdout",
     "output_type": "stream",
     "text": [
      "Central Business District Crime Rate: 7.211538461538461 %\n",
      "South Side Flats Crime Rate: 4.189560439560439 %\n",
      "Carrick Crime Rate: 4.052197802197802 %\n"
     ]
    }
   ],
   "source": [
    "#crime rate for top 3 neighborhoods compared to all crime in 30-day period\n",
    "CBDcr = 210/total *100 \n",
    "SSFcr = 122/total *100\n",
    "CARcr = 118/total *100\n",
    "\n",
    "print (\"Central Business District Crime Rate:\", CBDcr, \"%\")\n",
    "print (\"South Side Flats Crime Rate:\", SSFcr, \"%\")\n",
    "print (\"Carrick Crime Rate:\", CARcr, \"%\")"
   ]
  },
  {
   "cell_type": "code",
   "execution_count": 71,
   "metadata": {},
   "outputs": [
    {
     "name": "stdout",
     "output_type": "stream",
     "text": [
      "Esplen Crime Rate: 0.10302197802197803 %\n",
      "Glen Hazel, Regent Square, Mt. Oliver Boro, Outside County, and Summer Hill Crime Rates: 0.06868131868131869 %\n",
      "Ridgemont Rate: 0.034340659340659344 %\n"
     ]
    }
   ],
   "source": [
    "#crime rate for bottom 7 neighborhoods compared to all crime in 30-day period\n",
    "ESPcr = 3/total *100\n",
    "GHcr = 2/total *100\n",
    "RIDcr = 1/total *100\n",
    "\n",
    "print (\"Esplen Crime Rate:\", ESPcr, \"%\")\n",
    "print (\"Glen Hazel, Regent Square, Mt. Oliver Boro, Outside County, and Summer Hill Crime Rates:\", GHcr, \"%\")\n",
    "print (\"Ridgemont Crime Rate:\", RIDcr, \"%\")"
   ]
  },
  {
   "cell_type": "markdown",
   "metadata": {},
   "source": [
    "# Looking at Population data compared to Crime data:"
   ]
  },
  {
   "cell_type": "code",
   "execution_count": 76,
   "metadata": {},
   "outputs": [
    {
     "name": "stdout",
     "output_type": "stream",
     "text": [
      "                 Neighborhood  Id  Estimate; Total  Margin of Error; Total\n",
      "16  Central Business District  17           4060.0                458.0262\n",
      "\n",
      "        Neighborhood  Id  Estimate; Total  Margin of Error; Total\n",
      "72  South Side Flats  73           6292.0              747.592135\n",
      "\n",
      "   Neighborhood  Id  Estimate; Total  Margin of Error; Total\n",
      "15      Carrick  16          10122.0              826.666196\n"
     ]
    }
   ],
   "source": [
    "#Population dataframe\n",
    "population = pd.read_csv('total-population.csv')\n",
    "\n",
    "#Population of top 3 neighborhoods (crime rate)\n",
    "print(population.loc[population['Neighborhood'] == \"Central Business District\"])\n",
    "print (\"\")\n",
    "print(population.loc[population['Neighborhood'] == \"South Side Flats\"])\n",
    "print(\"\")\n",
    "print(population.loc[population['Neighborhood'] == \"Carrick\"])"
   ]
  },
  {
   "cell_type": "code",
   "execution_count": 78,
   "metadata": {},
   "outputs": [
    {
     "name": "stdout",
     "output_type": "stream",
     "text": [
      "   Neighborhood  Id  Estimate; Total  Margin of Error; Total\n",
      "30       Esplen  31            309.0                   118.0\n",
      "\n",
      "   Neighborhood  Id  Estimate; Total  Margin of Error; Total\n",
      "35   Glen Hazel  36            716.0                   231.0\n",
      "\n",
      "     Neighborhood  Id  Estimate; Total  Margin of Error; Total\n",
      "66  Regent Square  67           1033.0                   101.0\n",
      "\n",
      "            Neighborhood  Id  Estimate; Total  Margin of Error; Total\n",
      "52  Mount Oliver Borough  53           3399.0              462.961121\n",
      "\n",
      "Empty DataFrame\n",
      "Columns: [Neighborhood, Id, Estimate; Total, Margin of Error; Total]\n",
      "Index: []\n",
      "\n",
      "   Neighborhood  Id  Estimate; Total  Margin of Error; Total\n",
      "81  Summer Hill  82           1191.0                    92.0\n",
      "\n",
      "   Neighborhood  Id  Estimate; Total  Margin of Error; Total\n",
      "67    Ridgemont  68            314.0                   109.0\n"
     ]
    }
   ],
   "source": [
    "#Population of top 7 neighborhoods (crime rate)\n",
    "\n",
    "print(population.loc[population['Neighborhood'] == \"Esplen\"])\n",
    "print (\"\")\n",
    "print(population.loc[population['Neighborhood'] == \"Glen Hazel\"])\n",
    "print(\"\")\n",
    "print(population.loc[population['Neighborhood'] == \"Regent Square\"])\n",
    "print (\"\")\n",
    "print(population.loc[population['Neighborhood'] == \"Mount Oliver Borough\"])\n",
    "print (\"\")\n",
    "print(population.loc[population['Neighborhood'] == \"Outside County\"])\n",
    "print(\"\")\n",
    "print(population.loc[population['Neighborhood'] == \"Summer Hill\"])\n",
    "print(\"\")\n",
    "print(population.loc[population['Neighborhood'] == \"Ridgemont\"])"
   ]
  },
  {
   "cell_type": "markdown",
   "metadata": {},
   "source": [
    "# The Population of the 3 Neighborhoods with the most crime:\n",
    "\n",
    "- Central Business District:    4060 People\n",
    "- South Side Flats:             6292 People\n",
    "- Carrick:                      10122 People\n",
    "\n",
    "# The Population of the 7 Neighbourhoods with the least crime:\n",
    "\n",
    "- Esplen:                         309 People\n",
    "- Glen Hazel:                     716 People\n",
    "- Regent Square:                  1033 People\n",
    "- Mount Oliver Borough:           3399 People\n",
    "- Outside County:                 No Data\n",
    "- Summer Hill:                    1191 People\n",
    "- Ridgemont:                      314 People"
   ]
  },
  {
   "cell_type": "code",
   "execution_count": null,
   "metadata": {},
   "outputs": [],
   "source": []
  }
 ],
 "metadata": {
  "kernelspec": {
   "display_name": "Python 3",
   "language": "python",
   "name": "python3"
  },
  "language_info": {
   "codemirror_mode": {
    "name": "ipython",
    "version": 3
   },
   "file_extension": ".py",
   "mimetype": "text/x-python",
   "name": "python",
   "nbconvert_exporter": "python",
   "pygments_lexer": "ipython3",
   "version": "3.8.3"
  }
 },
 "nbformat": 4,
 "nbformat_minor": 4
}
