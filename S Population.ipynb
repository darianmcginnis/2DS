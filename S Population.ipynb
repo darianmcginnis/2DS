{
 "cells": [
  {
   "cell_type": "code",
   "execution_count": 1,
   "metadata": {},
   "outputs": [],
   "source": [
    "import pandas as pd"
   ]
  },
  {
   "cell_type": "code",
   "execution_count": 12,
   "metadata": {},
   "outputs": [
    {
     "name": "stdout",
     "output_type": "stream",
     "text": [
      "Estimated Total Population: 309327.0\n",
      "\n",
      "   Neighborhood  Id  Estimate; Total  Margin of Error; Total\n",
      "21      Chateau  22              3.0                3.000000\n",
      "71  South Shore  72             12.0               14.000000\n",
      "57  North Shore  58            205.0               66.753277\n",
      "\n",
      "           Neighborhood  Id  Estimate; Total  Margin of Error; Total\n",
      "13            Brookline  14          13160.0              943.065215\n",
      "68            Shadyside  69          13562.0              861.984919\n",
      "77  Squirrel Hill South  78          16042.0              889.712313\n"
     ]
    }
   ],
   "source": [
    "population = pd.read_csv('total-population.csv')\n",
    "\n",
    "print (\"Estimated Total Population:\",  population['Estimate; Total'].sum(axis=0))\n",
    "print(\"\")\n",
    "\n",
    "sortedP = population.sort_values('Estimate; Total')\n",
    "print (sortedP.head(3))\n",
    "print (\"\")\n",
    "print (sortedP.tail(3))"
   ]
  },
  {
   "cell_type": "markdown",
   "metadata": {},
   "source": [
    "## Estimated Total Population: 309327 People\n",
    "\n",
    "# The 3 most populated neighborhoods:\n",
    "\n",
    "- Squirrel Hill South: 16042 People\n",
    "- Shadyside: 13562 People\n",
    "- Brookline: 13160 People \n",
    "\n",
    "# The 3 least populated neighborhoods:\n",
    "\n",
    "- North Shore: 205 People\n",
    "- South Shore: 12 People\n",
    "- Chateau: 3 People\n",
    "\n",
    "# Looking at Crime data compared to Population data:"
   ]
  },
  {
   "cell_type": "code",
   "execution_count": 28,
   "metadata": {},
   "outputs": [
    {
     "name": "stdout",
     "output_type": "stream",
     "text": [
      "Neighborhood\n",
      "Allegheny Center              26\n",
      "Allegheny West                 6\n",
      "Allentown                     44\n",
      "Arlington                     23\n",
      "Arlington Heights              6\n",
      "Banksville                    16\n",
      "Bedford Dwellings             29\n",
      "Beechview                     66\n",
      "Beltzhoover                   15\n",
      "Bloomfield                    52\n",
      "Bluff                         51\n",
      "Bon Air                       16\n",
      "Brighton Heights              73\n",
      "Brookline                     76\n",
      "California-Kirkbride          17\n",
      "Carrick                      118\n",
      "Central Business District    210\n",
      "Central Lawrenceville         29\n",
      "Central North Side            28\n",
      "Central Oakland               36\n",
      "Chateau                       31\n",
      "Crafton Heights               45\n",
      "Crawford-Roberts              48\n",
      "Duquesne Heights              14\n",
      "East Allegheny                56\n",
      "East Hills                    67\n",
      "East Liberty                  91\n",
      "Elliott                       24\n",
      "Esplen                         3\n",
      "Fairywood                      7\n",
      "Fineview                      10\n",
      "Friendship                     9\n",
      "Garfield                      37\n",
      "Glen Hazel                     2\n",
      "Greenfield                    29\n",
      "Hays                           4\n",
      "Hazelwood                     51\n",
      "Highland Park                 29\n",
      "Homewood North                83\n",
      "Homewood South                50\n",
      "Homewood West                 19\n",
      "Knoxville                     62\n",
      "Larimer                       42\n",
      "Lincoln Place                 20\n",
      "Lincoln-Lemington-Belmar      55\n",
      "Lower Lawrenceville           18\n",
      "Manchester                    19\n",
      "Marshall-Shadeland            54\n",
      "Middle Hill                   40\n",
      "Morningside                   14\n",
      "Mount Oliver                   4\n",
      "Mount Washington              72\n",
      "Mt. Oliver Boro                2\n",
      "North Oakland                 29\n",
      "North Shore                   23\n",
      "Northview Heights             21\n",
      "Oakwood                        8\n",
      "Outside City                   8\n",
      "Outside County                 2\n",
      "Outside State                  9\n",
      "Overbrook                     21\n",
      "Perry North                   28\n",
      "Perry South                   48\n",
      "Point Breeze                  18\n",
      "Point Breeze North            18\n",
      "Polish Hill                   10\n",
      "Regent Square                  2\n",
      "Ridgemont                      1\n",
      "Shadyside                     54\n",
      "Sheraden                      64\n",
      "South Oakland                 12\n",
      "South Shore                   13\n",
      "South Side Flats             122\n",
      "South Side Slopes             39\n",
      "Spring Garden                  7\n",
      "Spring Hill-City View         17\n",
      "Squirrel Hill North           39\n",
      "Squirrel Hill South           51\n",
      "Stanton Heights               18\n",
      "Strip District                27\n",
      "Summer Hill                    2\n",
      "Swisshelm Park                 7\n",
      "Terrace Village               13\n",
      "Troy Hill                     15\n",
      "Upper Hill                    18\n",
      "Upper Lawrenceville           16\n",
      "West End                       9\n",
      "West Oakland                  17\n",
      "Westwood                      19\n",
      "Windgap                       10\n"
     ]
    }
   ],
   "source": [
    "#Crime Data\n",
    "crime = pd.read_csv('crime.csv')\n",
    "\n",
    "#Sorted Alphabetically\n",
    "crime = crime.sort_values('INCIDENTNEIGHBORHOOD')['INCIDENTNEIGHBORHOOD'].value_counts(sort = False).rename_axis(\"Neighborhood\")\n",
    "print(crime.to_string())"
   ]
  },
  {
   "cell_type": "markdown",
   "metadata": {},
   "source": [
    "# The number of crimes committed in the 3 most populated neighborhoods:\n",
    "\n",
    "- Squirrel Hill South: 51 Cases\n",
    "- Shadyside: 54 Cases\n",
    "- Brookline: 76 Cases\n",
    "\n",
    "# The number of crimes committed in the 3 least populated neighborhoods:\n",
    "\n",
    "- North Shore: 23 Cases\n",
    "- South Shore: 13 Cases\n",
    "- Chateau: 31 Cases [^1]\n",
    "\n",
    "[^1]: There seems to be a mistake with the population data or Crime data regarding Chateau"
   ]
  },
  {
   "cell_type": "code",
   "execution_count": null,
   "metadata": {},
   "outputs": [],
   "source": []
  }
 ],
 "metadata": {
  "kernelspec": {
   "display_name": "Python 3",
   "language": "python",
   "name": "python3"
  },
  "language_info": {
   "codemirror_mode": {
    "name": "ipython",
    "version": 3
   },
   "file_extension": ".py",
   "mimetype": "text/x-python",
   "name": "python",
   "nbconvert_exporter": "python",
   "pygments_lexer": "ipython3",
   "version": "3.8.3"
  }
 },
 "nbformat": 4,
 "nbformat_minor": 4
}
