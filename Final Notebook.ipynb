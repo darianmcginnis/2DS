{
 "cells": [
  {
   "cell_type": "markdown",
   "metadata": {},
   "source": [
    "# Final Notebook"
   ]
  },
  {
   "cell_type": "markdown",
   "metadata": {},
   "source": [
    "## Introduction: \n",
    "//I think we both made intros so we should probably mix them together without being redundant\n",
    "\n",
    "The way that we used our datasets to come to our solution started with crime. Since the higher values were proven to be places that were not worth overlooking the crime, we had to begin at the smaller values. Each notebook looks at a few neighborhoods based on crime, housing values, and population. First we find the extremes datasets. In population we found three neighborhoods with the highest population and three neighborhoods with the lowest population. Then looked at how crime and housing values were in those neighborhoods. In crime we found the cities with the most crime and the least amount of crime and then looked at population and housing values for those cities. In housing values we found the top three neighborhoods with the most houses worth one million or over and the top three neighborhoods with the most houses worth ten thousand or less. We began looking at the population in all of the neighborhoods with the most crime.\n",
    "\n",
    "The datasets we used are population data, housing price data and crime data in Allegheny County. Our goal is to find the neighborhood with the best qualities from all the above datasets. \n",
    "\n",
    "Our first approach was to sort the data and choose the “extreme” values. The reason we chose to find the highest and lowest values for each dataset is so that we can compare the “best” and “worst” conditions for each sub-metric. To explain, when looking at crime data, a high crime rate is the worst-case scenario, and a low crime rate would be the best.\n",
    "\n",
    "We decided to look at the neighborhoods with the most expensive housing, the least expensive housing as well as the most populated and least populated neighborhoods: \n"
   ]
  },
  {
   "cell_type": "markdown",
   "metadata": {},
   "source": [
    "## Our initial finding:\n",
    "\n",
    "### Estimated Total Population: 309327 People\n",
    "\n",
    "### The 3 most populated neighborhoods:\n",
    "\n",
    "- Squirrel Hill South: 16042 People\n",
    "- Shadyside: 13562 People\n",
    "- Brookline: 13160 People \n",
    "\n",
    "### The 3 least populated neighborhoods:\n",
    "\n",
    "- North Shore: 205 People\n",
    "- South Shore: 12 People\n",
    "- Chateau: 3 People"
   ]
  },
  {
   "cell_type": "markdown",
   "metadata": {},
   "source": [
    "### Top 3 Towns With Highest Amount Houses Worth 1 Million or More\n",
    "1. Squirrel Hill North\n",
    "2. Shadyside\n",
    "3. Mount Washington\n",
    "\n",
    "### Top 3 Towns With Highest Amount Houses Worth 10k or Less\n",
    "1. Perry South\n",
    "2. Brookline\n",
    "3. Allentown"
   ]
  },
  {
   "cell_type": "markdown",
   "metadata": {},
   "source": [
    "### The 3 Neighborhoods with the most crime:\n",
    "\n",
    "- Central Business District:    210 Cases\n",
    "- South Side Flats:             122 Cases\n",
    "- Carrick:                      118 Cases\n",
    "\n",
    "### The 7 Neighbourhoods with the least crime:\n",
    "\n",
    "- Esplen:                         3 Cases\n",
    "- Glen Hazel:                     2 Cases\n",
    "- Regent Square:                  2 Cases\n",
    "- Mount Oliver Borough:           2 Cases\n",
    "- Outside County:                 2 Cases\n",
    "- Summer Hill:                    2 Cases\n",
    "- Ridgemont:                      1 Cases"
   ]
  },
  {
   "cell_type": "markdown",
   "metadata": {},
   "source": [
    "## HIGH POPULATION  \n",
    "// You might have to move around some shit here. I put this here first so that we can define our bounds for population being 3000-6000 people\n",
    "\n",
    "First, lets look at Squirrel Hill South. Squirrel Hill South has the highest population at 16042 which is almost 3000 more than the second runner up for population, Shadyside. There were 51 crime cases in the past 30 days. Most of the houses in Squirrel Hill South are valued at over 200k with a tie with Mount Washington in third for the amount of houses 1 million or over at 27. The population is extremely large and the amount of expensive housing in this area likely makes getting a house here difficult.\n",
    "We cannot justify choosing Squirrel Hill South as the best neighborhood. \n",
    "\n",
    "Shadyside has the second highest population, but we’ve already deemed it unjustifiable to choose Shadyside as the best neighborhood.\n",
    "\n",
    "The third most popular neighborhood is Brookline at 13160 people. Brookline was actually in second place for the most houses valued at 10k or less with 54 houses. This doesn’t mean much since Brookline has 4376 houses, but most of Brookline’s houses are actually in good price ranges below 200k. Brookline had 76 crime cases. While Brookline isn’t terrible there is definitely a neighborhood that would be safer with a less overwhelming population.\n",
    "We cannot justify choosing Brookline as the best neighborhood."
   ]
  },
  {
   "cell_type": "markdown",
   "metadata": {},
   "source": [
    "## HIGH HOUSING RATES\n",
    "// you also might have to rearrange some things here. we can also say that we decided to look for housing that's in the range of 50k-100k or smth like that\n",
    "\n",
    "Now lets discuss the neighborhoods with the most expensive houses to see if there any redeeming qualities to justify them. \n",
    "\n",
    "First, we’ll take a look at Squirrel Hill North. Squirrel Hill North has 136 houses worth 1 million or more out of their 2065 total houses. Squirrel Hill North has very little houses worth anything below 300k. They’re extremely expensive. Squirrel Hill North had 39 crimes which when compared to the “extreme” crime rate neighborhoods isn’t too bad, it still isn’t as safe as others. The population of Squirrel Hill North is also very high at 11336 people. \n",
    "We cannot justify choosing Squirrel Hill North as the best neighborhood. \n",
    "\n",
    "Next, we’ll look at Shadyside. Shadyside has 76 houses worth 1 million or more out of their 2030 total houses. Most of the houses in Shadyside are above 200k which is still very pricy for most people. Shadyside has 54 crimes in the last 30 days. It’s a higher crime rate which isn’t safe. The population is also high at 13562 people. It is one of the most populated neighborhoods.\n",
    "We cannot justify choosing Shadyside as the best neighborhood.\n",
    "\n",
    "Finally, we’ll look at Mount Washington. Mount Washington has 37 houses valued at over 1 million or more out of their total 1927 houses. A good portion of Mount Washington’s houses are actually in the lower price ranges, but Mount Washington has a higher crime rate than both Shadyside and Squirrel Hill North at 72. The population is lower at 8743 people, but still a little high. The crime rate in Mount Washington makes the neighborhood appear unsafe.\n",
    "We cannot justify Mount Washington as the best neighborhood."
   ]
  },
  {
   "cell_type": "markdown",
   "metadata": {},
   "source": [
    "## HIGH CRIME:\n",
    "\n",
    "Let’s discuss the three neighborhoods with the highest crime and see if there are any redeeming qualities that would justify us choosing them as the “best”.\n",
    "\n",
    "First let’s look at Central Business District. The estimated population is 4060 people, and the housing prices tend to skew more towards prices of 100 thousand and higher. The population is within our defined threshold of 3000-6000 people however the housing is expensive compared to other neighborhoods. \n",
    "We cannot justify choosing Central Business District as the best neighborhood\n",
    "\n",
    "Next let’s look at South Side Flats. The estimated population is 6292 people, and the housing prices also skew to more expensive pricing. Namely, 70 thousand – 400 thousand. The population is slightly above the threshold and the housing price is generally higher than most neighborhoods.\n",
    "We cannot justify choosing South Side Flats as the best neighborhood\n",
    "\n",
    "Finally, Carrick. The estimated population is 10122 people, and the majority of the housing prices skew towards cheaper housing ranging from roughly 100 thousand and lower. Where a large majority are ranging from 10 thousand to 70 thousand. The population is much higher than our threshold and the housing prices are generally too low meaning that the quality of the housing isn’t great.\n",
    "We cannot justify choosing Carrick as the best neighborhood\n"
   ]
  },
  {
   "cell_type": "markdown",
   "metadata": {},
   "source": [
    "## Conclusion: \n",
    "// you might want to double check that this fits with everything we said.\n",
    "\n",
    "A neighborhood with too many people would be too crowded to live in, but you also don’t want to live in a neighborhood that has too few people. So it would be best to find the city with the least crime that has a good population middleground (as defined previously). Mount Oliver Borough was perfect with only two crime cases in the past thirty days and a population of 3399 people. The only thing left to do was make sure it didn’t have extreme housing values. A good neighborhood must be affordable, but not too affordable. You don’t want to live in a neighborhood that has houses that are worn down(//use defined price range). In Mount Oliver Borough, the interval 40k-49.9k had the most houses at around 168 houses. That may seem a little low compared to other areas, but when you take a deeper look into Mount Oliver Borough’s housing values there are about 96 in the 50k-59.k interval and 117 in the 60k-69.9k total. As you get into higher values there are less options, but Mount Oliver Borough is a safe neighborhood with low population and affordable housing that isn’t too low that the houses would be substandard."
   ]
  },
  {
   "cell_type": "markdown",
   "metadata": {},
   "source": [
    "## Reflection:\n",
    "\n",
    "Sharif: The final result that we got may seem strange considering that I'm not American and only ever lived on Oakland. Mount Oliver Borough sounds like a stark contrast compared to Oakland but it also sounds like a relatively safe and cozy place to live in. I've been living in Oakland for nearly a year now and I've been loving it. However, I can't see myself living here long-term and I would prefer a safer and cozier place, such as Mount Oliver Borough, in the future. "
   ]
  },
  {
   "cell_type": "code",
   "execution_count": null,
   "metadata": {},
   "outputs": [],
   "source": []
  }
 ],
 "metadata": {
  "kernelspec": {
   "display_name": "Python 3",
   "language": "python",
   "name": "python3"
  },
  "language_info": {
   "codemirror_mode": {
    "name": "ipython",
    "version": 3
   },
   "file_extension": ".py",
   "mimetype": "text/x-python",
   "name": "python",
   "nbconvert_exporter": "python",
   "pygments_lexer": "ipython3",
   "version": "3.8.3"
  }
 },
 "nbformat": 4,
 "nbformat_minor": 4
}
